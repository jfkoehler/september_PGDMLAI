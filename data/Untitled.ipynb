{
 "cells": [
  {
   "cell_type": "code",
   "execution_count": null,
   "metadata": {},
   "outputs": [],
   "source": [
    "import pandas_datareader as pdr\n",
    "\n",
    "yhoo = pdr.get_data_yahoo('AMZN')\n",
    "\n",
    "import statsmodels.api as sm\n",
    "\n",
    "from statsmodels.tsa.arima_model import ARIMA\n",
    "\n",
    "yhoo.head()\n",
    "\n",
    "yhoo['High'].plot()\n",
    "\n",
    "arima = ARIMA(yhoo['Adj Close'], order = (1, 1, 1))\n",
    "\n",
    "model = arima.fit()\n",
    "\n",
    "model.predict().plot()\n",
    "yhoo['Adj Close'].diff().plot()\n",
    "\n",
    "arima1 = ARIMA(yhoo['Adj Close'], exog = yhoo[['Open', 'High']], order = (1, 1, 1))\n",
    "\n",
    "model2 = arima1.fit()"
   ]
  },
  {
   "cell_type": "markdown",
   "metadata": {
    "jupyter": {
     "source_hidden": true
    }
   },
   "source": [
    "model2.summary()"
   ]
  },
  {
   "cell_type": "code",
   "execution_count": 36,
   "metadata": {},
   "outputs": [],
   "source": [
    "url = 'https://rickandmortyapi.com/api/character'"
   ]
  },
  {
   "cell_type": "code",
   "execution_count": 37,
   "metadata": {},
   "outputs": [],
   "source": [
    "import requests"
   ]
  },
  {
   "cell_type": "code",
   "execution_count": 38,
   "metadata": {},
   "outputs": [],
   "source": [
    "r = requests.get(url)"
   ]
  },
  {
   "cell_type": "code",
   "execution_count": 39,
   "metadata": {},
   "outputs": [],
   "source": [
    "from bs4 import BeautifulSoup"
   ]
  },
  {
   "cell_type": "code",
   "execution_count": 40,
   "metadata": {},
   "outputs": [],
   "source": [
    "soup = BeautifulSoup(r.text, 'lxml')"
   ]
  },
  {
   "cell_type": "code",
   "execution_count": 41,
   "metadata": {},
   "outputs": [
    {
     "data": {
      "text/plain": [
       "<Response [200]>"
      ]
     },
     "execution_count": 41,
     "metadata": {},
     "output_type": "execute_result"
    }
   ],
   "source": [
    "r"
   ]
  },
  {
   "cell_type": "code",
   "execution_count": 44,
   "metadata": {},
   "outputs": [],
   "source": [
    "d = r.json()"
   ]
  },
  {
   "cell_type": "code",
   "execution_count": 47,
   "metadata": {},
   "outputs": [
    {
     "data": {
      "text/plain": [
       "{'id': 1,\n",
       " 'name': 'Rick Sanchez',\n",
       " 'status': 'Alive',\n",
       " 'species': 'Human',\n",
       " 'type': '',\n",
       " 'gender': 'Male',\n",
       " 'origin': {'name': 'Earth (C-137)',\n",
       "  'url': 'https://rickandmortyapi.com/api/location/1'},\n",
       " 'location': {'name': 'Earth (Replacement Dimension)',\n",
       "  'url': 'https://rickandmortyapi.com/api/location/20'},\n",
       " 'image': 'https://rickandmortyapi.com/api/character/avatar/1.jpeg',\n",
       " 'episode': ['https://rickandmortyapi.com/api/episode/1',\n",
       "  'https://rickandmortyapi.com/api/episode/2',\n",
       "  'https://rickandmortyapi.com/api/episode/3',\n",
       "  'https://rickandmortyapi.com/api/episode/4',\n",
       "  'https://rickandmortyapi.com/api/episode/5',\n",
       "  'https://rickandmortyapi.com/api/episode/6',\n",
       "  'https://rickandmortyapi.com/api/episode/7',\n",
       "  'https://rickandmortyapi.com/api/episode/8',\n",
       "  'https://rickandmortyapi.com/api/episode/9',\n",
       "  'https://rickandmortyapi.com/api/episode/10',\n",
       "  'https://rickandmortyapi.com/api/episode/11',\n",
       "  'https://rickandmortyapi.com/api/episode/12',\n",
       "  'https://rickandmortyapi.com/api/episode/13',\n",
       "  'https://rickandmortyapi.com/api/episode/14',\n",
       "  'https://rickandmortyapi.com/api/episode/15',\n",
       "  'https://rickandmortyapi.com/api/episode/16',\n",
       "  'https://rickandmortyapi.com/api/episode/17',\n",
       "  'https://rickandmortyapi.com/api/episode/18',\n",
       "  'https://rickandmortyapi.com/api/episode/19',\n",
       "  'https://rickandmortyapi.com/api/episode/20',\n",
       "  'https://rickandmortyapi.com/api/episode/21',\n",
       "  'https://rickandmortyapi.com/api/episode/22',\n",
       "  'https://rickandmortyapi.com/api/episode/23',\n",
       "  'https://rickandmortyapi.com/api/episode/24',\n",
       "  'https://rickandmortyapi.com/api/episode/25',\n",
       "  'https://rickandmortyapi.com/api/episode/26',\n",
       "  'https://rickandmortyapi.com/api/episode/27',\n",
       "  'https://rickandmortyapi.com/api/episode/28',\n",
       "  'https://rickandmortyapi.com/api/episode/29',\n",
       "  'https://rickandmortyapi.com/api/episode/30',\n",
       "  'https://rickandmortyapi.com/api/episode/31',\n",
       "  'https://rickandmortyapi.com/api/episode/32',\n",
       "  'https://rickandmortyapi.com/api/episode/33',\n",
       "  'https://rickandmortyapi.com/api/episode/34',\n",
       "  'https://rickandmortyapi.com/api/episode/35',\n",
       "  'https://rickandmortyapi.com/api/episode/36',\n",
       "  'https://rickandmortyapi.com/api/episode/37',\n",
       "  'https://rickandmortyapi.com/api/episode/38',\n",
       "  'https://rickandmortyapi.com/api/episode/39',\n",
       "  'https://rickandmortyapi.com/api/episode/40',\n",
       "  'https://rickandmortyapi.com/api/episode/41'],\n",
       " 'url': 'https://rickandmortyapi.com/api/character/1',\n",
       " 'created': '2017-11-04T18:48:46.250Z'}"
      ]
     },
     "execution_count": 47,
     "metadata": {},
     "output_type": "execute_result"
    }
   ],
   "source": [
    "\n",
    "d['results'][0]['name']\n",
    "d['results'][0]['image']\n",
    "d['results'][0]['gender']"
   ]
  },
  {
   "cell_type": "code",
   "execution_count": null,
   "metadata": {},
   "outputs": [],
   "source": []
  }
 ],
 "metadata": {
  "kernelspec": {
   "display_name": "Python 3",
   "language": "python",
   "name": "python3"
  },
  "language_info": {
   "codemirror_mode": {
    "name": "ipython",
    "version": 3
   },
   "file_extension": ".py",
   "mimetype": "text/x-python",
   "name": "python",
   "nbconvert_exporter": "python",
   "pygments_lexer": "ipython3",
   "version": "3.8.3"
  }
 },
 "nbformat": 4,
 "nbformat_minor": 4
}
